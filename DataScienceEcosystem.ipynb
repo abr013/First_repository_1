{
 "cells": [
  {
   "cell_type": "markdown",
   "id": "b509422a-998b-43f6-a580-bfb5478aa257",
   "metadata": {},
   "source": [
    "# Data Science Tools and Ecosystem\n"
   ]
  },
  {
   "cell_type": "markdown",
   "id": "5cb71cf4-d524-46d3-bb45-2aa95d551c50",
   "metadata": {},
   "source": [
    "In this notebook, Data Science Tools and Ecosystem are summarized."
   ]
  },
  {
   "cell_type": "markdown",
   "id": "6c2b102e-a3e3-4882-8b81-acaf374c2319",
   "metadata": {},
   "source": [
    "**Objectives:**\n",
    "* List of popular languages that data scientists use\n",
    "* List of Libraries used by data scientists\n",
    "* List of open source development environment tools\n",
    "* Examples of arithmetic expressions. "
   ]
  },
  {
   "cell_type": "markdown",
   "id": "dfac0fcd-da7a-45bc-83f0-cc5733c4ddf0",
   "metadata": {},
   "source": [
    "# Some of the popular languages that Data Scientists use are:\n",
    "1. Python\n",
    "2. R\n",
    "3. MySQL"
   ]
  },
  {
   "cell_type": "code",
   "execution_count": null,
   "id": "d510ee6b-1c72-41e4-b3b4-70d248f68279",
   "metadata": {},
   "outputs": [],
   "source": []
  },
  {
   "cell_type": "markdown",
   "id": "7a55f308-91dc-4689-8e7c-184d51b1a366",
   "metadata": {},
   "source": [
    "# Some of the commonly used libraries used by Data Scientists include:\n",
    "1. Pandas\n",
    "2. Scikit-learn\n",
    "3. Pytorch\n",
    "4. Matplotlib\n",
    "5. numpy\n"
   ]
  },
  {
   "cell_type": "markdown",
   "id": "e5e4451b-ec8c-4897-8e44-7bd7fe6c440b",
   "metadata": {},
   "source": [
    "| Data Science Tools |\n",
    "|--------------------|\n",
    "| Jupyter Notebook |\n",
    "| Pycharm |\n",
    "| Zeppelin Notebook |\n",
    "| R Studio's |"
   ]
  },
  {
   "cell_type": "markdown",
   "id": "7d71f594-02f7-4abf-a284-97fc3c0c00ec",
   "metadata": {},
   "source": [
    "### Below are a few examples of evaluating arithmetic expressions in Python."
   ]
  },
  {
   "cell_type": "code",
   "execution_count": 3,
   "id": "cc696cb0-f4c2-4646-9cf9-05a4c9d66ef7",
   "metadata": {},
   "outputs": [
    {
     "data": {
      "text/plain": [
       "17"
      ]
     },
     "execution_count": 3,
     "metadata": {},
     "output_type": "execute_result"
    }
   ],
   "source": [
    "# This is a simple arithmetic expression to multiply and then add integers.\n",
    "\n",
    "(3 * 4) + 5 "
   ]
  },
  {
   "cell_type": "code",
   "execution_count": 7,
   "id": "96cf7c36-a805-4809-8729-a6237e60e064",
   "metadata": {},
   "outputs": [
    {
     "data": {
      "text/plain": [
       "3.3333333333333335"
      ]
     },
     "execution_count": 7,
     "metadata": {},
     "output_type": "execute_result"
    }
   ],
   "source": [
    "# This will convert 200 minutes to hours by dividng by 60\n",
    "\n",
    "200/60"
   ]
  },
  {
   "cell_type": "markdown",
   "id": "24ee6c67-eb88-40f7-8d6b-a87ccb6ae264",
   "metadata": {},
   "source": [
    "## Author\n",
    "Abhinav"
   ]
  },
  {
   "cell_type": "code",
   "execution_count": null,
   "id": "ee4c4f0b-f34d-4f92-a6b4-6e5a2798639f",
   "metadata": {},
   "outputs": [],
   "source": []
  }
 ],
 "metadata": {
  "kernelspec": {
   "display_name": "Python 3 (ipykernel)",
   "language": "python",
   "name": "python3"
  },
  "language_info": {
   "codemirror_mode": {
    "name": "ipython",
    "version": 3
   },
   "file_extension": ".py",
   "mimetype": "text/x-python",
   "name": "python",
   "nbconvert_exporter": "python",
   "pygments_lexer": "ipython3",
   "version": "3.11.0"
  }
 },
 "nbformat": 4,
 "nbformat_minor": 5
}
